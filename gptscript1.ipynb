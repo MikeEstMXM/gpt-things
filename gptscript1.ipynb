{
 "cells": [
  {
   "cell_type": "code",
   "execution_count": 1,
   "metadata": {},
   "outputs": [
    {
     "ename": "ModuleNotFoundError",
     "evalue": "No module named 'openai'",
     "output_type": "error",
     "traceback": [
      "\u001b[0;31m---------------------------------------------------------------------------\u001b[0m",
      "\u001b[0;31mModuleNotFoundError\u001b[0m                       Traceback (most recent call last)",
      "Cell \u001b[0;32mIn[1], line 2\u001b[0m\n\u001b[1;32m      1\u001b[0m \u001b[38;5;28;01mimport\u001b[39;00m \u001b[38;5;21;01mos\u001b[39;00m\n\u001b[0;32m----> 2\u001b[0m \u001b[38;5;28;01mimport\u001b[39;00m \u001b[38;5;21;01mopenai\u001b[39;00m\n",
      "\u001b[0;31mModuleNotFoundError\u001b[0m: No module named 'openai'"
     ]
    }
   ],
   "source": [
    "import os\n",
    "import openai\n",
    "\n",
    "\n",
    "API_KEY = \"YOUR_API_KEY\"\n",
    "API_ENDPOINT = \"https://api.openai.com/v1/chat/gpt4/completions\"\n",
    "\n",
    "\n",
    "def get_latest_chat_number():\n",
    "    chat_folder = \"Chats\"\n",
    "    os.makedirs(chat_folder, exist_ok=True)\n",
    "    files = [f for f in os.listdir(chat_folder) if f.startswith(\"chat\") and f.endswith(\".txt\")]\n",
    "    if not files:\n",
    "        return 0\n",
    "    latest_chat = max(files, key=lambda x: int(x[4:-4]))\n",
    "    return int(latest_chat[4:-4])\n",
    "def save_chat_to_file(chat, file_number):\n",
    "    chat_folder = \"Chats\"\n",
    "    os.makedirs(chat_folder, exist_ok=True)\n",
    "    filename = f\"{chat_folder}/chat{file_number}.txt\"\n",
    "    with open(filename, \"w\") as file:\n",
    "        file.write(chat)\n",
    "def generate_chat_response(user_input):\n",
    "    openai.ChatCompletion.create(\n",
    "        model=\"davinci-codex-123456\",\n",
    "        messages=[{\"role\": \"system\", \"content\": \"You are a helpful assistant.\"}, {\"role\": \"user\", \"content\": user_input}],\n",
    "        max_tokens=50\n",
    "    )\n",
    "    chatgpt_response = response.choices[0].message.content.strip()\n",
    "    return chatgpt_response\n",
    "\n",
    "def emulate_chat_interface():\n",
    "    latest_chat_number = get_latest_chat_number()\n",
    "    chat_number = latest_chat_number + 1\n",
    "    chat = \"\"\n",
    "\n",
    "    print(\"ChatGPT Emulator\")\n",
    "    print(\"Type 'exit' to quit.\\n\")\n",
    "\n",
    "    while True:\n",
    "        user_input = input(\"User: \")\n",
    "\n",
    "        if user_input.lower() == \"exit\":\n",
    "            break\n",
    "\n",
    "        if user_input.startswith(\"continue\"):\n",
    "            try:\n",
    "                continue_number = int(user_input.split()[1])\n",
    "                if continue_number <= latest_chat_number:\n",
    "                    filename = f\"Chats/chat{continue_number}.txt\"\n",
    "                    with open(filename, \"r\") as file:\n",
    "                        chat = file.read()\n",
    "                        chat_number = continue_number\n",
    "                        print(f\"Continuing conversation from {filename}\\n\")\n",
    "                        continue\n",
    "                else:\n",
    "                    print(\"Invalid conversation number. Starting a new conversation.\\n\")\n",
    "            except (IndexError, ValueError):\n",
    "                print(\"Invalid command. Starting a new conversation.\\n\")\n",
    "\n",
    "        chat += f\"User: {user_input}\\n\"\n",
    "        chatgpt_response = generate_chat_response(chat)\n",
    "        chat += f\"ChatGPT: {chatgpt_response}\\n\"\n",
    "\n",
    "        save_chat_to_file(chat, chat_number)\n",
    "\n",
    "        chat_number += 1\n",
    "        latest_chat_number = max(latest_chat_number, chat_number)\n",
    "\n",
    "        print(f\"ChatGPT: {chatgpt_response}\\n\")\n",
    "\n",
    "    save_chat_to_file(chat, chat_number)\n",
    "    print(f\"Chat saved to Chats/chat{chat_number}.txt\")\n",
    "\n",
    "\n",
    "openai.api_key = API_KEY\n",
    "emulate_chat_interface()\n"
   ]
  },
  {
   "cell_type": "code",
   "execution_count": null,
   "metadata": {},
   "outputs": [],
   "source": []
  }
 ],
 "metadata": {
  "interpreter": {
   "hash": "aee8b7b246df8f9039afb4144a1f6fd8d2ca17a180786b69acc140d282b71a49"
  },
  "kernelspec": {
   "display_name": "Python 3.10.5 64-bit",
   "language": "python",
   "name": "python3"
  },
  "language_info": {
   "codemirror_mode": {
    "name": "ipython",
    "version": 3
   },
   "file_extension": ".py",
   "mimetype": "text/x-python",
   "name": "python",
   "nbconvert_exporter": "python",
   "pygments_lexer": "ipython3",
   "version": "3.11.3"
  },
  "orig_nbformat": 4
 },
 "nbformat": 4,
 "nbformat_minor": 2
}
